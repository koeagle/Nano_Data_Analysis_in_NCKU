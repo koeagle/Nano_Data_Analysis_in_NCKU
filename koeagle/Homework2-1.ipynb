{
 "metadata": {
  "name": "",
  "signature": "sha256:de004f62c3296351af3db9c330725501a32f1d47e2d154829c1f4c53caf1e8a9"
 },
 "nbformat": 3,
 "nbformat_minor": 0,
 "worksheets": [
  {
   "cells": [
    {
     "cell_type": "code",
     "collapsed": false,
     "input": [
      "from random import *"
     ],
     "language": "python",
     "metadata": {},
     "outputs": [],
     "prompt_number": 26
    },
    {
     "cell_type": "code",
     "collapsed": false,
     "input": [
      "name = [\"\u9ec3\u5bb6\u745c\",\"\u6797\u8389\u6f54\",\"\u9673\u6636\u7db8\", \"\u9ec3\u653f\u8559\", \"\u8b1d\u4ec1\u6770\",\"\u9ec3\u9756\u771f\",\"\u8cf4\u6052\u6069\",\"\u6f58\u4f69\u535a\",\"\u90ed\u6b63\u5ff5\",\"\u67f3\u706b\u4fca\"]"
     ],
     "language": "python",
     "metadata": {},
     "outputs": [],
     "prompt_number": 27
    },
    {
     "cell_type": "code",
     "collapsed": false,
     "input": [
      "print choice(name)"
     ],
     "language": "python",
     "metadata": {},
     "outputs": [
      {
       "output_type": "stream",
       "stream": "stdout",
       "text": [
        "\u9ec3\u9756\u771f\n"
       ]
      }
     ],
     "prompt_number": 28
    },
    {
     "cell_type": "code",
     "collapsed": false,
     "input": [
      "for i in range(2):\n",
      "    print \"\u4f60\u597d, %s\" %name[i]"
     ],
     "language": "python",
     "metadata": {},
     "outputs": [
      {
       "output_type": "stream",
       "stream": "stdout",
       "text": [
        "\u4f60\u597d, \u9ec3\u5bb6\u745c\n",
        "\u4f60\u597d, \u6797\u8389\u6f54\n"
       ]
      }
     ],
     "prompt_number": 30
    },
    {
     "cell_type": "code",
     "collapsed": false,
     "input": [
      "str1 = \"\u4f60\u597d,%s\" %name[1]\n",
      "print str1"
     ],
     "language": "python",
     "metadata": {},
     "outputs": [
      {
       "output_type": "stream",
       "stream": "stdout",
       "text": [
        "\u4f60\u597d,\u6797\u8389\u6f54\n"
       ]
      }
     ],
     "prompt_number": 53
    },
    {
     "cell_type": "code",
     "collapsed": false,
     "input": [
      "for i in range(1):\n",
      "    st1.append(\"%s\" %name[i])"
     ],
     "language": "python",
     "metadata": {},
     "outputs": [],
     "prompt_number": 60
    },
    {
     "cell_type": "code",
     "collapsed": false,
     "input": [
      "st2.append(\"name[1]\")"
     ],
     "language": "python",
     "metadata": {},
     "outputs": [
      {
       "ename": "NameError",
       "evalue": "name 'st2' is not defined",
       "output_type": "pyerr",
       "traceback": [
        "\u001b[1;31m---------------------------------------------------------------------------\u001b[0m\n\u001b[1;31mNameError\u001b[0m                                 Traceback (most recent call last)",
        "\u001b[1;32m<ipython-input-64-f7369ea66ce6>\u001b[0m in \u001b[0;36m<module>\u001b[1;34m()\u001b[0m\n\u001b[1;32m----> 1\u001b[1;33m \u001b[0mst2\u001b[0m\u001b[1;33m.\u001b[0m\u001b[0mappend\u001b[0m\u001b[1;33m(\u001b[0m\u001b[1;34m\"name[1]\"\u001b[0m\u001b[1;33m)\u001b[0m\u001b[1;33m\u001b[0m\u001b[0m\n\u001b[0m",
        "\u001b[1;31mNameError\u001b[0m: name 'st2' is not defined"
       ]
      }
     ],
     "prompt_number": 64
    },
    {
     "cell_type": "code",
     "collapsed": false,
     "input": [
      "print st1"
     ],
     "language": "python",
     "metadata": {},
     "outputs": [
      {
       "output_type": "stream",
       "stream": "stdout",
       "text": [
        "['\\xe9\\xbb\\x83\\xe5\\xae\\xb6\\xe7\\x91\\x9c', '\\xe9\\xbb\\x83\\xe5\\xae\\xb6\\xe7\\x91\\x9c']\n"
       ]
      }
     ],
     "prompt_number": 61
    },
    {
     "cell_type": "code",
     "collapsed": false,
     "input": [
      "for i in range(len(name)):\n",
      "    print \"\"\"\u89aa\u611b\u7684 %s,\n",
      "\n",
      "\u6700\u8fd1\u597d\u55ce? \u8fd1\u4f86\u7e3d\u662f\u4e0d\u6642\u60f3\u8d77\u59b3, \u5c24\u5176\u662f\u7d93\u904e\u4e00\u8d77\u53bb\u904e\u7684\u5730\u65b9, \u7e3d\u6703\u60f3\u5230,\n",
      "\n",
      "\u300c\u554a, \u9019\u662f\u548c %s \u4f86\u904e\u7684\u5730\u65b9\u3002\u300d\n",
      "\n",
      "\"\"\" %(name[i],name[i])"
     ],
     "language": "python",
     "metadata": {},
     "outputs": [
      {
       "output_type": "stream",
       "stream": "stdout",
       "text": [
        "\u89aa\u611b\u7684 \u9ec3\u5bb6\u745c,\n",
        "\n",
        "\u6700\u8fd1\u597d\u55ce? \u8fd1\u4f86\u7e3d\u662f\u4e0d\u6642\u60f3\u8d77\u59b3, \u5c24\u5176\u662f\u7d93\u904e\u4e00\u8d77\u53bb\u904e\u7684\u5730\u65b9, \u7e3d\u6703\u60f3\u5230,\n",
        "\n",
        "\u300c\u554a, \u9019\u662f\u548c \u9ec3\u5bb6\u745c \u4f86\u904e\u7684\u5730\u65b9\u3002\u300d\n",
        "\n",
        "\n",
        "\u89aa\u611b\u7684 \u6797\u8389\u6f54,\n",
        "\n",
        "\u6700\u8fd1\u597d\u55ce? \u8fd1\u4f86\u7e3d\u662f\u4e0d\u6642\u60f3\u8d77\u59b3, \u5c24\u5176\u662f\u7d93\u904e\u4e00\u8d77\u53bb\u904e\u7684\u5730\u65b9, \u7e3d\u6703\u60f3\u5230,\n",
        "\n",
        "\u300c\u554a, \u9019\u662f\u548c \u6797\u8389\u6f54 \u4f86\u904e\u7684\u5730\u65b9\u3002\u300d\n",
        "\n",
        "\n",
        "\u89aa\u611b\u7684 \u9673\u6636\u7db8,\n",
        "\n",
        "\u6700\u8fd1\u597d\u55ce? \u8fd1\u4f86\u7e3d\u662f\u4e0d\u6642\u60f3\u8d77\u59b3, \u5c24\u5176\u662f\u7d93\u904e\u4e00\u8d77\u53bb\u904e\u7684\u5730\u65b9, \u7e3d\u6703\u60f3\u5230,\n",
        "\n",
        "\u300c\u554a, \u9019\u662f\u548c \u9673\u6636\u7db8 \u4f86\u904e\u7684\u5730\u65b9\u3002\u300d\n",
        "\n",
        "\n",
        "\u89aa\u611b\u7684 \u9ec3\u653f\u8559,\n",
        "\n",
        "\u6700\u8fd1\u597d\u55ce? \u8fd1\u4f86\u7e3d\u662f\u4e0d\u6642\u60f3\u8d77\u59b3, \u5c24\u5176\u662f\u7d93\u904e\u4e00\u8d77\u53bb\u904e\u7684\u5730\u65b9, \u7e3d\u6703\u60f3\u5230,\n",
        "\n",
        "\u300c\u554a, \u9019\u662f\u548c \u9ec3\u653f\u8559 \u4f86\u904e\u7684\u5730\u65b9\u3002\u300d\n",
        "\n",
        "\n",
        "\u89aa\u611b\u7684 \u8b1d\u4ec1\u6770,\n",
        "\n",
        "\u6700\u8fd1\u597d\u55ce? \u8fd1\u4f86\u7e3d\u662f\u4e0d\u6642\u60f3\u8d77\u59b3, \u5c24\u5176\u662f\u7d93\u904e\u4e00\u8d77\u53bb\u904e\u7684\u5730\u65b9, \u7e3d\u6703\u60f3\u5230,\n",
        "\n",
        "\u300c\u554a, \u9019\u662f\u548c \u8b1d\u4ec1\u6770 \u4f86\u904e\u7684\u5730\u65b9\u3002\u300d\n",
        "\n",
        "\n",
        "\u89aa\u611b\u7684 \u9ec3\u9756\u771f,\n",
        "\n",
        "\u6700\u8fd1\u597d\u55ce? \u8fd1\u4f86\u7e3d\u662f\u4e0d\u6642\u60f3\u8d77\u59b3, \u5c24\u5176\u662f\u7d93\u904e\u4e00\u8d77\u53bb\u904e\u7684\u5730\u65b9, \u7e3d\u6703\u60f3\u5230,\n",
        "\n",
        "\u300c\u554a, \u9019\u662f\u548c \u9ec3\u9756\u771f \u4f86\u904e\u7684\u5730\u65b9\u3002\u300d\n",
        "\n",
        "\n",
        "\u89aa\u611b\u7684 \u8cf4\u6052\u6069,\n",
        "\n",
        "\u6700\u8fd1\u597d\u55ce? \u8fd1\u4f86\u7e3d\u662f\u4e0d\u6642\u60f3\u8d77\u59b3, \u5c24\u5176\u662f\u7d93\u904e\u4e00\u8d77\u53bb\u904e\u7684\u5730\u65b9, \u7e3d\u6703\u60f3\u5230,\n",
        "\n",
        "\u300c\u554a, \u9019\u662f\u548c \u8cf4\u6052\u6069 \u4f86\u904e\u7684\u5730\u65b9\u3002\u300d\n",
        "\n",
        "\n",
        "\u89aa\u611b\u7684 \u6f58\u4f69\u535a,\n",
        "\n",
        "\u6700\u8fd1\u597d\u55ce? \u8fd1\u4f86\u7e3d\u662f\u4e0d\u6642\u60f3\u8d77\u59b3, \u5c24\u5176\u662f\u7d93\u904e\u4e00\u8d77\u53bb\u904e\u7684\u5730\u65b9, \u7e3d\u6703\u60f3\u5230,\n",
        "\n",
        "\u300c\u554a, \u9019\u662f\u548c \u6f58\u4f69\u535a \u4f86\u904e\u7684\u5730\u65b9\u3002\u300d\n",
        "\n",
        "\n",
        "\u89aa\u611b\u7684 \u90ed\u6b63\u5ff5,\n",
        "\n",
        "\u6700\u8fd1\u597d\u55ce? \u8fd1\u4f86\u7e3d\u662f\u4e0d\u6642\u60f3\u8d77\u59b3, \u5c24\u5176\u662f\u7d93\u904e\u4e00\u8d77\u53bb\u904e\u7684\u5730\u65b9, \u7e3d\u6703\u60f3\u5230,\n",
        "\n",
        "\u300c\u554a, \u9019\u662f\u548c \u90ed\u6b63\u5ff5 \u4f86\u904e\u7684\u5730\u65b9\u3002\u300d\n",
        "\n",
        "\n",
        "\u89aa\u611b\u7684 \u67f3\u706b\u4fca,\n",
        "\n",
        "\u6700\u8fd1\u597d\u55ce? \u8fd1\u4f86\u7e3d\u662f\u4e0d\u6642\u60f3\u8d77\u59b3, \u5c24\u5176\u662f\u7d93\u904e\u4e00\u8d77\u53bb\u904e\u7684\u5730\u65b9, \u7e3d\u6703\u60f3\u5230,\n",
        "\n",
        "\u300c\u554a, \u9019\u662f\u548c \u67f3\u706b\u4fca \u4f86\u904e\u7684\u5730\u65b9\u3002\u300d\n",
        "\n",
        "\n"
       ]
      }
     ],
     "prompt_number": 18
    },
    {
     "cell_type": "code",
     "collapsed": false,
     "input": [],
     "language": "python",
     "metadata": {},
     "outputs": []
    }
   ],
   "metadata": {}
  }
 ]
}