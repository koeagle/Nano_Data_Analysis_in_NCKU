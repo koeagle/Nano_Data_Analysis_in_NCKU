{
 "metadata": {
  "name": "",
  "signature": "sha256:50982bfe3b5165622102ccb3ef0048bc4532f69861d5bff68f241a8a63d72df9"
 },
 "nbformat": 3,
 "nbformat_minor": 0,
 "worksheets": [
  {
   "cells": [
    {
     "cell_type": "code",
     "collapsed": false,
     "input": [
      "f = open(\"grades.csv\", 'r') # \u6253\u958b grades.csv"
     ],
     "language": "python",
     "metadata": {},
     "outputs": [],
     "prompt_number": 1
    },
    {
     "cell_type": "code",
     "collapsed": false,
     "input": [
      "rawdata = f.readlines()"
     ],
     "language": "python",
     "metadata": {},
     "outputs": [],
     "prompt_number": 2
    },
    {
     "cell_type": "code",
     "collapsed": false,
     "input": [
      "f.close() # \u95dc\u6389 grades.csv"
     ],
     "language": "python",
     "metadata": {},
     "outputs": [],
     "prompt_number": 3
    },
    {
     "cell_type": "code",
     "collapsed": false,
     "input": [
      "for student in rawdata:\n",
      "    print student.rstrip('\\n')"
     ],
     "language": "python",
     "metadata": {},
     "outputs": [
      {
       "output_type": "stream",
       "stream": "stdout",
       "text": [
        "\u59d3\u540d,\u570b\u6587,\u82f1\u6587,\u6578\u5b78,\u81ea\u7136,\u793e\u6703\n",
        "\u5289\u4fca\u5b89,9,10,15,10,13\n",
        "\u80e1\u7389\u83ef,10,10,10,8,9\n",
        "\u9ec3\u6dd1\u5a77,13,15,8,11,14\n",
        "\u9673\u4e0a\u7d2b,10,10,8,9,14\n",
        "\u5d14\u975c\u6210,13,12,14,12,13\n",
        "\u5f35\u96c5\u5cb3,13,12,12,12,8\n",
        "\u6881\u4fca\u7fd4,11,13,10,10,14\n",
        "\u6797\u91d1\u9cf3,8,9,10,10,8\n",
        "\u8a31\u5354\u65fa,9,9,12,10,10\n",
        "\u90ed\u96c5\u60e0,10,15,12,11,9\n",
        "\u5f35\u5fd7\u5049,14,9,8,10,12\n",
        "\u5468\u7687\u6a3a,13,9,13,14,15\n",
        "\u674e\u6b63\u5049,11,15,11,14,15\n",
        "\u9ec3\u65ed\u5fe0,15,14,9,12,10\n",
        "\u8449\u96c5\u7433,8,13,10,13,14\n",
        "\u9ec3\u6dd1\u6167,11,8,10,12,15\n",
        "\u5433\u829d\u83c1,14,9,11,10,9\n",
        "\u8076\u73ee\u541b,12,11,13,12,9\n",
        "\u6881\u6167\u541b,9,8,8,8,12\n",
        "\u8449\u66c9\u73b2,14,9,11,15,9\n",
        "\u9673\u667a\u8d85,13,9,13,14,13\n",
        "\u9ec3\u5955\u971e,9,8,11,13,8\n",
        "\u6c88\u6606\u7d14,12,14,10,9,9\n",
        "\u8a31\u60e0\u96ef,10,13,12,14,10\n",
        "\u9673\u7af9\u4f2f,10,12,15,10,14\n",
        "\u8521\u4ea6\u7444,13,13,14,13,12\n",
        "\u6234\u559c\u5bf6,13,11,9,14,9\n",
        "\u99ae\u767d\u5c4f,8,13,14,8,10\n",
        "\u738b\u91d1\u9cf3,15,14,8,12,8\n",
        "\u95d5\u9032\u7da0,14,11,13,8,11\n",
        "\u9023\u744b\u73b2,8,10,14,8,13\n",
        "\u6797\u79c0\u5a1f,15,12,9,9,15\n",
        "\u6797\u5efa\u4ea8,9,11,8,8,11\n",
        "\u738b\u4f73\u84c9,14,15,9,9,8\n",
        "\u66fe\u6dd1\u739f,13,12,10,11,9\n",
        "\u76e7\u51a0\u5b8f,14,11,10,11,11\n",
        "\u8a79\u5a01\u5fb7,12,13,15,10,14\n",
        "\u66fe\u6021\u541b,11,12,15,13,14\n",
        "\u5433\u6587\u4f2f,8,8,8,15,12\n",
        "\u6bb5\u51a0\u5ef7,9,8,15,12,15\n",
        "\u5433\u6b23\u5f37,12,13,8,11,9\n",
        "\u66f2\u79c0\u82ac,14,14,8,9,15\n",
        "\u8d99\u606d\u7fa4,14,12,10,9,15\n",
        "\u6797\u58eb\u831c,12,15,9,9,13\n",
        "\u7ae5\u5fc3\u6021,13,13,14,8,13\n",
        "\u8b1d\u4eae\u592b,9,8,14,11,9\n",
        "\u67f3\u83c1\u862d,14,12,10,8,14\n",
        "\u8449\u5b50\u8c6a,8,9,13,13,15\n",
        "\u9673\u6021\u5a77,15,14,12,9,15\n",
        "\u6731\u5bf6\u539f,10,14,11,10,15\n",
        "\u99ae\u4f36\u744b,12,12,14,8,11\n",
        "\u5289\u5f65\u658c,14,11,11,12,13\n",
        "\u9ec3\u6167\u7db8,12,9,13,14,9\n",
        "\u99f1\u7a4e\u7426,14,10,11,9,15\n",
        "\u9673\u6021\u6f54,15,15,9,15,11\n",
        "\u6797\u610f\u73cd,9,15,11,13,9\n",
        "\u9673\u4ead\u598f,11,14,11,12,10\n",
        "\u80e1\u6df3\u831c,12,15,14,13,11\n",
        "\u9673\u5141\u51cc,10,13,9,11,14\n",
        "\u82ae\u79cb\u8f9b,11,10,15,10,8\n",
        "\u66fe\u6607\u55ac,14,12,11,8,15\n",
        "\u5468\u7b60\u83c1,14,8,8,11,12\n",
        "\u8a31\u7acb\u5049,8,10,10,15,9\n",
        "\u5f35\u5c71\u7407,12,11,9,9,15\n",
        "\u4fde\u5fd7\u5cf0,9,14,13,14,15\n",
        "\u8b1d\u96c5\u7433,13,14,13,12,9\n",
        "\u90b1\u76c8\u4fca,10,14,14,13,8\n",
        "\u6797\u54f2\u6cd5,14,9,15,10,14\n",
        "\u5289\u9e97\u82ac,8,14,14,14,14\n",
        "\u8523\u5955\u4efb,12,12,10,13,8\n",
        "\u8449\u5100\u4f9d,9,13,15,8,14\n",
        "\u8449\u5fc5\u76c8,9,8,13,9,12\n",
        "\u9673\u6b23\u73b2,10,9,13,8,10\n",
        "\u5433\u5fd7\u9060,13,15,15,8,8\n",
        "\u5289\u96c5\u53cb,14,9,10,14,11\n",
        "\u5b8b\u7f8e\u73e0,13,8,9,10,11\n",
        "\u5468\u80b2\u9716,9,12,15,13,12\n",
        "\u9ec3\u4ecb\u55ac,13,10,11,8,13\n",
        "\u8449\u5b5f\u540d,12,13,13,9,11\n",
        "\u5ba3\u5ba3\u58eb,9,10,12,15,13\n",
        "\u65bd\u96c5\u9234,13,15,12,13,13\n",
        "\u694a\u5f65\u4f36,11,8,13,9,15\n",
        "\u856d\u5448\u840d,11,14,9,15,9\n",
        "\u674e\u58eb\u8ce2,10,14,15,13,13\n",
        "\u80e1\u51f1\u7433,10,8,9,9,15\n",
        "\u5f35\u96c5\u5f6c,10,11,15,12,8\n",
        "\u6797\u8c9e\u5100,11,10,14,8,13\n",
        "\u8d99\u5049\u5e0c,10,13,14,13,15\n",
        "\u6234\u9752\u82f1,11,8,14,12,10\n",
        "\u90ed\u9806\u8aa0,13,13,10,14,9\n",
        "\u80e1\u52dd\u5091,8,11,15,10,15\n",
        "\u9673\u767b\u7ff0,14,11,11,13,12\n",
        "\u8521\u6dd1\u5b5d,8,12,14,12,11\n",
        "\u674e\u66fc\u5922,11,9,11,8,8\n",
        "\u6797\u8207\u5fe0,10,9,10,11,15\n",
        "\u8521\u4f73\u71d5,9,10,9,13,14\n",
        "\u5433\u7b71\u5a77,8,10,14,10,15\n",
        "\u9673\u5bb6\u9298,14,9,11,8,12\n",
        "\u674e\u660e\u5a01,15,9,8,9,15\n",
        "\u8fb2\u63da\u52c7,9,11,12,12,10\n"
       ]
      }
     ],
     "prompt_number": 4
    },
    {
     "cell_type": "code",
     "collapsed": false,
     "input": [
      "std3 = rawdata[2]"
     ],
     "language": "python",
     "metadata": {},
     "outputs": [],
     "prompt_number": 21
    },
    {
     "cell_type": "code",
     "collapsed": false,
     "input": [
      "aa = "
     ],
     "language": "python",
     "metadata": {},
     "outputs": []
    },
    {
     "cell_type": "code",
     "collapsed": false,
     "input": [
      "print std3"
     ],
     "language": "python",
     "metadata": {},
     "outputs": [
      {
       "output_type": "stream",
       "stream": "stdout",
       "text": [
        "\u80e1\u7389\u83ef,10,10,10,8,9\n",
        "\n"
       ]
      }
     ],
     "prompt_number": 23
    },
    {
     "cell_type": "code",
     "collapsed": false,
     "input": [
      "std3a = std3.split(',')\n",
      "print std3a"
     ],
     "language": "python",
     "metadata": {},
     "outputs": [
      {
       "output_type": "stream",
       "stream": "stdout",
       "text": [
        "['\\xe8\\x83\\xa1\\xe7\\x8e\\x89\\xe8\\x8f\\xaf', '10', '10', '10', '8', '9\\n']\n"
       ]
      }
     ],
     "prompt_number": 34
    },
    {
     "cell_type": "code",
     "collapsed": false,
     "input": [
      "chi = int(std3a[1])\n",
      "chi\n",
      "int(std3a[1])"
     ],
     "language": "python",
     "metadata": {},
     "outputs": [
      {
       "metadata": {},
       "output_type": "pyout",
       "prompt_number": 35,
       "text": [
        "10"
       ]
      }
     ],
     "prompt_number": 35
    },
    {
     "cell_type": "code",
     "collapsed": false,
     "input": [
      "a = range(1,2)\n",
      "a"
     ],
     "language": "python",
     "metadata": {},
     "outputs": [
      {
       "metadata": {},
       "output_type": "pyout",
       "prompt_number": 36,
       "text": [
        "[1]"
       ]
      }
     ],
     "prompt_number": 36
    },
    {
     "cell_type": "code",
     "collapsed": false,
     "input": [
      "total = int(std3a[1])+int(std3a[2])+int(std3a[3])+int(std3a[4])+int(std3a[5])\n",
      "avg = total/5.\n",
      "avg"
     ],
     "language": "python",
     "metadata": {},
     "outputs": [
      {
       "metadata": {},
       "output_type": "pyout",
       "prompt_number": 38,
       "text": [
        "9.4"
       ]
      }
     ],
     "prompt_number": 38
    },
    {
     "cell_type": "code",
     "collapsed": false,
     "input": [],
     "language": "python",
     "metadata": {},
     "outputs": []
    }
   ],
   "metadata": {}
  }
 ]
}